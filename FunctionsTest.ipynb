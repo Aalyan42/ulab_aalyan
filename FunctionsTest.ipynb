{
 "cells": [
  {
   "cell_type": "code",
   "execution_count": 6,
   "id": "a79428ce-140a-45b6-b2a1-ea259dcec662",
   "metadata": {},
   "outputs": [
    {
     "name": "stdout",
     "output_type": "stream",
     "text": [
      "10\n"
     ]
    }
   ],
   "source": [
    "#Functions\n"
   ]
  },
  {
   "cell_type": "code",
   "execution_count": 1,
   "id": "315297ee-1151-4c6b-a449-6a458eb87c8a",
   "metadata": {},
   "outputs": [
    {
     "data": {
      "text/plain": [
       "'Hello, Bob!'"
      ]
     },
     "execution_count": 1,
     "metadata": {},
     "output_type": "execute_result"
    }
   ],
   "source": [
    "def greet(name):\n",
    "    talk = \"Hello,\" + \" \" + name + \"!\"\n",
    "    return talk\n",
    "\n",
    "greet(\"Bob\")"
   ]
  },
  {
   "cell_type": "code",
   "execution_count": 3,
   "id": "15fb3a61-8858-4653-be5c-188145b04a25",
   "metadata": {},
   "outputs": [
    {
     "data": {
      "text/plain": [
       "'Dex favorite color is purple'"
      ]
     },
     "execution_count": 3,
     "metadata": {},
     "output_type": "execute_result"
    }
   ],
   "source": [
    "def fav_color(color, person):\n",
    "    sentence = person + \" favorite color is \" + color\n",
    "    return sentence\n",
    "fav_color(color='purple', person='Dex')\n"
   ]
  },
  {
   "cell_type": "code",
   "execution_count": 5,
   "id": "30796318-c047-444e-ae1a-b5d7bb600a5d",
   "metadata": {},
   "outputs": [
    {
     "name": "stdout",
     "output_type": "stream",
     "text": [
      "6.0\n"
     ]
    }
   ],
   "source": [
    "def area(base, height):\n",
    "    area = (base * height) / 2\n",
    "    return area\n",
    "\n",
    "my_base = 3\n",
    "my_height = 4\n",
    "my_area = area(my_base, my_height)\n",
    "print(my_area)"
   ]
  },
  {
   "cell_type": "code",
   "execution_count": 9,
   "id": "5c14cc65-cc18-458d-8ff8-028c233c06ab",
   "metadata": {},
   "outputs": [
    {
     "name": "stdout",
     "output_type": "stream",
     "text": [
      "5\n"
     ]
    },
    {
     "ename": "NameError",
     "evalue": "name 'y' is not defined",
     "output_type": "error",
     "traceback": [
      "\u001b[0;31m---------------------------------------------------------------------------\u001b[0m",
      "\u001b[0;31mNameError\u001b[0m                                 Traceback (most recent call last)",
      "Cell \u001b[0;32mIn[9], line 6\u001b[0m\n\u001b[1;32m      3\u001b[0m     \u001b[38;5;28mprint\u001b[39m(y)\n\u001b[1;32m      5\u001b[0m display_variable()\n\u001b[0;32m----> 6\u001b[0m \u001b[38;5;28mprint\u001b[39m(y)\n",
      "\u001b[0;31mNameError\u001b[0m: name 'y' is not defined"
     ]
    }
   ],
   "source": [
    "def display_variable():\n",
    "    y = 5\n",
    "    print(y)\n",
    "\n",
    "display_variable()\n",
    "print(y)"
   ]
  },
  {
   "cell_type": "code",
   "execution_count": 14,
   "id": "996ee93a-bb1f-4226-995a-53bb92c4e356",
   "metadata": {},
   "outputs": [
    {
     "data": {
      "text/plain": [
       "5"
      ]
     },
     "execution_count": 14,
     "metadata": {},
     "output_type": "execute_result"
    }
   ],
   "source": [
    " 5 // 1"
   ]
  },
  {
   "cell_type": "code",
   "execution_count": 16,
   "id": "37effe07-436c-4396-9b6a-0c5b0fdc392e",
   "metadata": {},
   "outputs": [
    {
     "name": "stdout",
     "output_type": "stream",
     "text": [
      "6\n"
     ]
    }
   ],
   "source": [
    "x = 3\n",
    "x+=3\n",
    "print(x)"
   ]
  },
  {
   "cell_type": "code",
   "execution_count": null,
   "id": "710fe73c-6251-4ed8-b2b8-4825013ccdea",
   "metadata": {},
   "outputs": [],
   "source": []
  }
 ],
 "metadata": {
  "kernelspec": {
   "display_name": "Python 3 (ipykernel)",
   "language": "python",
   "name": "python3"
  },
  "language_info": {
   "codemirror_mode": {
    "name": "ipython",
    "version": 3
   },
   "file_extension": ".py",
   "mimetype": "text/x-python",
   "name": "python",
   "nbconvert_exporter": "python",
   "pygments_lexer": "ipython3",
   "version": "3.12.4"
  }
 },
 "nbformat": 4,
 "nbformat_minor": 5
}
