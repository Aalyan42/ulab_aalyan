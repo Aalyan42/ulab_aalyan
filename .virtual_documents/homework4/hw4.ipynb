





# Your comments here

# 1. For 2.1, outputting all the values added together instead of in a list. Was using the '+' operater wrong like there were other strings to add when there weren't. Fixed by changing to brackets, adding commas, and removing plus signs.
# 2. Syntax error (issue with the written code) forgot to add ':' after defining a function. Fixed by adding a colon.

# 3. NameError: name 'true' is not defined. Was registering 'true' as a string, but the 'True' operater has a captial T. had to change. A name error is usually a typing error. 









# Your code here

def math_operation_func(x,y):

    sum = x + y
    diff = x - y
    prod = x * y
    div = x / y
    flr_div = x // y
    rmnder = x % y
    exp = x ** y
    return [sum, diff, prod, div, flr_div, rmnder, exp]

# function is taking in variables x and y, doing a bunch of arithmetic operations, and returning all the results in a list. 

a = 10
b = 5

math_basics = math_operation_func(x = a, y = b)
print(math_basics)
#printing output of function after calling it, and setting a and b to necessary variables

a = 10
b = 3

math_basics = math_operation_func(x = a, y = b)
print(math_basics)






# Your thinking process and description here
# My function name was unique, not just function. My variable names describe the operation they were completing.
# There was proper spacing between the variables and functions, and the comments described what was happening






# Your code here

def arithmetic_function (x):
    x +=5
    x *= 3
    return x

x = 10
print (arithmetic_function(x))

x = 5
print (arithmetic_function(x))






# Your thinking process and response here
# I thought that instead of assigning new variables like increment_by_5 = x + 5,
# I can just take the x variable and manipulate it, and then output it when done.
# That way the whole function looks cleaner and runs smoother






def x_range (floor, ceiling, x):
    if x > floor & x < ceiling:
        return True
    else:
        return False
    return 

print (x_range(5, 10, 1))

print (x_range(1, 3, 2))





# Your thinking process and description here

# Initially, had another if function defining what to do if x was out of the range. Then realized that can just apply an else function as if x is not in the range by logic it is outside of it, and I can return false. The function is simple and efficient.





# Your code here

def sentence_maker(a, b, c, d, e):
    return (a + ' ' + b + ' ' + c + ' ' + d + ' ' + e + '.') 

a = 'Hello'
b = 'my'
c = 'name'
d = 'is'
e = 'Gus Fring'

print (sentence_maker(a,b,c,d,e))








# Your code here





# Your code here





# Your code here





# Your comment here
