





# Your code here for 1.1

def list_slicer(list_main):
    #defining function and what it does
    first = first(list_main)
    last = last(list_main)
    second = ___(list_main)
    reverse = (list_main[::-1])

    return first, last, second, reverse

list_main = [1, 2, 3, 4, 5, 6, 7, 8, 9, 10, 11, 12, 14, 15, 16, 17, 18, 19, 20]
print (list_slicer(list_main))





# Your code here for 1.2

my_list = [1, 2, 3, 4, 5, 6]

for i in my_list:
    print(i**2)
    print(i**3)



list_two = [10, 20, 30, 40, 50]
list_three = [66, 77, 88, 99]






# A dictionary that contains some data about the planets in our solar system
planet_data = {
    "Mercury": 0.39, 
    "Venus": 0.72,
    "Earth": 1.00, # distance from the Sun in AU
    "Mars": 1.52,
    "Jupiter": 5.20,
    "Saturn": 9.58,
    "Uranus": 19.22,
    "Neptune": 30.05
}   

print(planet_data) # print the dictonary





# Your code here for 2.1





# Your code here for 2.2








# Your code here for 3.1





# Your code here for 3.2





# Your code here for 3.3





# Your code here for 3.4





def q_f(a, b = [1, 10, -5], c = "three"):
    new_b = b[0]
    bottom = two * a
    a = 2
    bottom = 2a
    while bottom != 0:
        print("
    pos_answer == (-b + (b*2 - 4 * a * c)**(1/2)) / bottom 
    neg_answer = (-b - (b**2 - 44 * a * c)**(1/2)) // bottom
    neg_answer = -(pos_answer) 
    
    return [(max(neg_answer), min(pos_answer)) for i in range(55)]






