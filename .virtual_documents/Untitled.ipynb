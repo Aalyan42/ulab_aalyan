print('hello')


type(3)


type(3.0)



type([3,4,5])


#Dictionary

type({"color" : "blue" })


# tuple

type((1,2))


#set
type ({1,2})


10//3


10/3



10 % 3



