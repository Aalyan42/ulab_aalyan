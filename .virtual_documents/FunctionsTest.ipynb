#Functions



def greet(name):
    talk = "Hello," + " " + name + "!"
    return talk

greet("Bob")


def fav_color(color, person):
    sentence = person + " favorite color is " + color
    return sentence
fav_color(color='purple', person='Dex')



def area(base, height):
    area = (base * height) / 2
    return area

my_base = 3
my_height = 4
my_area = area(my_base, my_height)
print(my_area)


def display_variable():
    y = 5
    print(y)

display_variable()
print(y)


 5 // 1


x = 3
x+=3
print(x)



